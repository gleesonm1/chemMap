{
 "cells": [
  {
   "cell_type": "markdown",
   "metadata": {},
   "source": [
    "## Analysis of a quantitative chemical map"
   ]
  },
  {
   "cell_type": "code",
   "execution_count": 1,
   "metadata": {},
   "outputs": [
    {
     "name": "stdout",
     "output_type": "stream",
     "text": [
      "Using matplotlib backend: Qt5Agg\n"
     ]
    }
   ],
   "source": [
    "# import the chemMap package\n",
    "import chemMap\n",
    "\n",
    "# import common python packages for data processing\n",
    "import matplotlib.pyplot as plt\n",
    "import pandas as pd\n",
    "import numpy as np\n",
    "\n",
    "# turn off certain warnings and use the matplotlib backend: Qt5Agg to get interactive plots\n",
    "pd.options.mode.chained_assignment = default='warn'\n",
    "%matplotlib\n",
    "\n",
    "# set basic plot parameters (or preferences)\n",
    "plt.rcParams[\"font.family\"] = \"Times New Roman\"\n",
    "plt.rcParams.update({'font.size': 18})"
   ]
  },
  {
   "cell_type": "markdown",
   "metadata": {},
   "source": [
    "In this example, we load in quantitative chemical map data of a plagioclase crystal from a Hawaiian gabbro collected from the flanks of Hualalai volcano. This map is collected over a ~ 3 mm by 3 mm area selected by visual inspection of a larger scale map (~ 20 μm resolution):"
   ]
  },
  {
   "cell_type": "markdown",
   "metadata": {},
   "source": [
    "<img src=\"HawaiiQuant/106426.png\">"
   ]
  },
  {
   "cell_type": "code",
   "execution_count": 2,
   "metadata": {},
   "outputs": [],
   "source": [
    "Oxide = ['Fe','Mg','Ca','Ti','Al','Na','Si', 'K']\n",
    "Data = chemMap.loadwt('HawaiiQuant/',Oxide,filter=True)\n",
    "\n",
    "Resolution = 6.35"
   ]
  },
  {
   "cell_type": "markdown",
   "metadata": {},
   "source": [
    "k-means cluster analysis can now be performed on this quantitative data, but before we do it is useful to convert the wt% of each element into the wt% of their respective oxides."
   ]
  },
  {
   "cell_type": "code",
   "execution_count": 3,
   "metadata": {},
   "outputs": [],
   "source": [
    "Data = chemMap.calcOxides(Data, Oxide)"
   ]
  },
  {
   "cell_type": "markdown",
   "metadata": {},
   "source": [
    "We now apply the k-means cluster analysis. In this example, the user is promted to type the cluster names once the average compositions are shown."
   ]
  },
  {
   "cell_type": "code",
   "execution_count": 4,
   "metadata": {},
   "outputs": [
    {
     "name": "stdout",
     "output_type": "stream",
     "text": [
      "Cluster 0,FeO = 0.6\n",
      "Cluster 0,MgO = 0.12\n",
      "Cluster 0,CaO = 14.24\n",
      "Cluster 0,TiO2 = 0.1\n",
      "Cluster 0,Al2O3 = 32.0\n",
      "Cluster 0,Na2O = 2.63\n",
      "Cluster 0,SiO2 = 48.58\n",
      "Cluster 0,K2O = 0.2\n",
      "Cluster 0,Cluster = 0.0\n",
      "Type a three letter identification code for this cluster: \n",
      "Plg\n",
      "Cluster 1,FeO = 6.84\n",
      "Cluster 1,MgO = 14.13\n",
      "Cluster 1,CaO = 19.03\n",
      "Cluster 1,TiO2 = 1.02\n",
      "Cluster 1,Al2O3 = 5.7\n",
      "Cluster 1,Na2O = 0.5\n",
      "Cluster 1,SiO2 = 47.66\n",
      "Cluster 1,K2O = -0.0\n",
      "Cluster 1,Cluster = 1.0\n",
      "Type a three letter identification code for this cluster: \n",
      "Cpx\n",
      "Cluster 2,FeO = 2.62\n",
      "Cluster 2,MgO = 0.7\n",
      "Cluster 2,CaO = 2.19\n",
      "Cluster 2,TiO2 = 0.1\n",
      "Cluster 2,Al2O3 = 2.62\n",
      "Cluster 2,Na2O = 0.18\n",
      "Cluster 2,SiO2 = 4.97\n",
      "Cluster 2,K2O = 0.02\n",
      "Cluster 2,Cluster = 2.0\n",
      "Type a three letter identification code for this cluster: \n",
      "nan\n",
      "Cluster 3,FeO = 3.87\n",
      "Cluster 3,MgO = 3.52\n",
      "Cluster 3,CaO = 9.74\n",
      "Cluster 3,TiO2 = 0.38\n",
      "Cluster 3,Al2O3 = 12.03\n",
      "Cluster 3,Na2O = 0.99\n",
      "Cluster 3,SiO2 = 27.32\n",
      "Cluster 3,K2O = 0.04\n",
      "Cluster 3,Cluster = 3.0\n",
      "Type a three letter identification code for this cluster: \n",
      "nan\n"
     ]
    }
   ],
   "source": [
    "Oxides = ['FeO','MgO','CaO','TiO2','Al2O3','Na2O','SiO2','K2O']\n",
    "Data = chemMap.Cluster(Data, Oxides, 4, Name = True)"
   ]
  },
  {
   "cell_type": "markdown",
   "metadata": {},
   "source": [
    "We can now calculate the ratio of Anorthite in the plagioclase."
   ]
  },
  {
   "cell_type": "code",
   "execution_count": 5,
   "metadata": {},
   "outputs": [
    {
     "name": "stderr",
     "output_type": "stream",
     "text": [
      "C:\\Users\\mattg\\Anaconda3\\lib\\site-packages\\chemMap\\ratios.py:54: RuntimeWarning: invalid value encountered in true_divide\n",
      "  Data[r] = (Data['CaO']/56.0774)/(Data['CaO']/56.0774+2*Data['Na2O']/61.9789)*100\n",
      "C:\\Users\\mattg\\Anaconda3\\lib\\site-packages\\chemMap\\ratios.py:51: RuntimeWarning: invalid value encountered in true_divide\n",
      "  Data[r] = (Data['MgO']/40.3044)/(Data['FeO']/71.844+Data['MgO']/40.3044)*100\n"
     ]
    }
   ],
   "source": [
    "Data = chemMap.calcRatios(Data, oxide = True, ratios = ['An', 'Mg#'])"
   ]
  },
  {
   "cell_type": "markdown",
   "metadata": {},
   "source": [
    "And create a plot of An in the plagioclase. For completeness, FeO in the pyroxene is also plotted here."
   ]
  },
  {
   "cell_type": "code",
   "execution_count": 6,
   "metadata": {},
   "outputs": [],
   "source": [
    "f, b = chemMap.ElementMap(Data, ['An','FeO'], ColMap = ['Blues','Reds'], \n",
    "                        Resolution = Resolution, Bounds = [[55, 95],[2,10]], Cluster = ['Plg','Cpx'])"
   ]
  },
  {
   "cell_type": "markdown",
   "metadata": {},
   "source": [
    "This area shows a region where an exsiting gabbroic mush/cumulate is interacting with a passing melt phase. This reaction is causing reactive infiltration of the passing melt phase into the mush, leading to the observed texture.\n",
    "\n",
    "What we may wish to do here is quantify the composition of the two different plagioclase domains. There are several ways to do this. First, we could extract a transect."
   ]
  },
  {
   "cell_type": "code",
   "execution_count": 7,
   "metadata": {},
   "outputs": [
    {
     "name": "stdout",
     "output_type": "stream",
     "text": [
      "Click twice to define the start and the end of the chosen transect, and once to define the width of the area to consider\n"
     ]
    }
   ],
   "source": [
    "Tr = chemMap.Section(Data, b, 'An', Resolution, Cluster = 'Plg')"
   ]
  },
  {
   "cell_type": "markdown",
   "metadata": {},
   "source": [
    "Alternatively, we could re-perform the cluster analysis, but this time only consider the Plagioclase classified pixels. This would allow us to extract the distribution of compositions for the more primitive and more evolved plagioclase regions."
   ]
  },
  {
   "cell_type": "code",
   "execution_count": 8,
   "metadata": {},
   "outputs": [
    {
     "name": "stdout",
     "output_type": "stream",
     "text": [
      "Cluster_Plg 0,CaO = 0.0\n",
      "Cluster_Plg 0,Al2O3 = 0.0\n",
      "Cluster_Plg 0,Na2O = 0.0\n",
      "Cluster_Plg 0,SiO2 = 0.0\n",
      "Cluster_Plg 1,CaO = 13.6\n",
      "Cluster_Plg 1,Al2O3 = 31.37\n",
      "Cluster_Plg 1,Na2O = 2.99\n",
      "Cluster_Plg 1,SiO2 = 49.43\n",
      "Cluster_Plg 2,CaO = 15.03\n",
      "Cluster_Plg 2,Al2O3 = 33.06\n",
      "Cluster_Plg 2,Na2O = 2.3\n",
      "Cluster_Plg 2,SiO2 = 48.29\n"
     ]
    }
   ],
   "source": [
    "Oxides = ['CaO','Al2O3','Na2O','SiO2']\n",
    "Data = chemMap.Cluster(Data, Oxides, 3, Cluster = 'Plg', ShowComp = True, Plot = True)"
   ]
  },
  {
   "cell_type": "markdown",
   "metadata": {},
   "source": [
    "Lets now assess the relative composition of these two plagioclase clusters"
   ]
  },
  {
   "cell_type": "code",
   "execution_count": 9,
   "metadata": {},
   "outputs": [
    {
     "data": {
      "text/plain": [
       "Text(0.5, 0, 'Anorthite Content')"
      ]
     },
     "execution_count": 9,
     "metadata": {},
     "output_type": "execute_result"
    }
   ],
   "source": [
    "f, a = plt.subplots(1,1, figsize = (10,6))\n",
    "a.hist(Data['An'][np.where(Data['Cluster_Plg']==1)], alpha = 0.6,\n",
    "       bins  = np.linspace(45,95,201), density = True, facecolor = [1,0.2,0.2])\n",
    "a.hist(Data['An'][np.where(Data['Cluster_Plg']==2)], alpha = 0.6,\n",
    "       bins  = np.linspace(45,95,201), density = True, facecolor = [0.2,0.2,1])\n",
    "a.set_xlabel('Anorthite Content')"
   ]
  },
  {
   "cell_type": "code",
   "execution_count": null,
   "metadata": {},
   "outputs": [],
   "source": []
  }
 ],
 "metadata": {
  "kernelspec": {
   "display_name": "Python 3",
   "language": "python",
   "name": "python3"
  },
  "language_info": {
   "codemirror_mode": {
    "name": "ipython",
    "version": 3
   },
   "file_extension": ".py",
   "mimetype": "text/x-python",
   "name": "python",
   "nbconvert_exporter": "python",
   "pygments_lexer": "ipython3",
   "version": "3.8.5"
  }
 },
 "nbformat": 4,
 "nbformat_minor": 4
}
